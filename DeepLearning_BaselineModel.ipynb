{
  "nbformat": 4,
  "nbformat_minor": 0,
  "metadata": {
    "colab": {
      "provenance": []
    },
    "kernelspec": {
      "name": "python3",
      "display_name": "Python 3"
    },
    "language_info": {
      "name": "python"
    },
    "accelerator": "TPU"
  },
  "cells": [
    {
      "cell_type": "code",
      "execution_count": 1,
      "metadata": {
        "id": "qjwMTOPGC6UK"
      },
      "outputs": [],
      "source": [
        "import numpy as np\n",
        "import pandas as pd\n",
        "import os\n",
        "import matplotlib.pyplot as plt\n",
        "import tensorflow as tf\n",
        "from keras import Sequential\n",
        "from tensorflow.keras.layers import *\n",
        "from tensorflow.keras.models import *\n",
        "from tensorflow.keras.preprocessing import image"
      ]
    },
    {
      "cell_type": "code",
      "source": [
        "from google.colab import drive\n",
        "drive.mount('/content/drive')"
      ],
      "metadata": {
        "colab": {
          "base_uri": "https://localhost:8080/"
        },
        "id": "Ur8UxhPDDWnL",
        "outputId": "33a0f0b9-ef02-4556-bcc1-fe2a0c87a065"
      },
      "execution_count": 2,
      "outputs": [
        {
          "output_type": "stream",
          "name": "stdout",
          "text": [
            "Drive already mounted at /content/drive; to attempt to forcibly remount, call drive.mount(\"/content/drive\", force_remount=True).\n"
          ]
        }
      ]
    },
    {
      "cell_type": "code",
      "source": [
        "folder_path = \"/content/drive/MyDrive/xray_bone_fracture/\"\n",
        "\n",
        "training_path = folder_path + \"train\"\n",
        "testing_path = folder_path + \"val\"\n"
      ],
      "metadata": {
        "id": "-S-iHsoESjsZ"
      },
      "execution_count": 3,
      "outputs": []
    },
    {
      "cell_type": "code",
      "source": [
        "training_datagen = image.ImageDataGenerator(\n",
        "    rotation_range=15,\n",
        "    shear_range=0.2,\n",
        "    zoom_range=0.2,\n",
        "    horizontal_flip=True,\n",
        "    fill_mode='nearest',\n",
        "    width_shift_range=0.1,\n",
        "    height_shift_range=0.1\n",
        ")\n",
        "\n",
        "testing_datagen = image.ImageDataGenerator(\n",
        "    rotation_range=15,\n",
        "    shear_range=0.2,\n",
        "    zoom_range=0.2,\n",
        "    horizontal_flip=True,\n",
        "    fill_mode='nearest',\n",
        "    width_shift_range=0.1,\n",
        "    height_shift_range=0.1)"
      ],
      "metadata": {
        "id": "uVf-S5soT_Zm"
      },
      "execution_count": 4,
      "outputs": []
    },
    {
      "cell_type": "code",
      "source": [
        "training_generator = training_datagen.flow_from_directory(\n",
        "    training_path,\n",
        "    target_size = (224,224),\n",
        "    batch_size = 4,\n",
        "    class_mode = 'binary')\n",
        "testing_generator = testing_datagen.flow_from_directory(\n",
        "    testing_path,\n",
        "    target_size = (224,224),\n",
        "    batch_size = 4,\n",
        "    shuffle=True,\n",
        "    class_mode = 'binary')"
      ],
      "metadata": {
        "colab": {
          "base_uri": "https://localhost:8080/"
        },
        "id": "meI_gkjWUJ6P",
        "outputId": "e16999c6-b850-4ad7-c621-e826a1a19ea3"
      },
      "execution_count": 5,
      "outputs": [
        {
          "output_type": "stream",
          "name": "stdout",
          "text": [
            "Found 8863 images belonging to 2 classes.\n",
            "Found 600 images belonging to 2 classes.\n"
          ]
        }
      ]
    },
    {
      "cell_type": "code",
      "source": [
        "base_model = tf.keras.applications.EfficientNetB3(weights='imagenet', input_shape=(224,224,3), include_top=False)\n",
        "\n",
        "for layer in base_model.layers:\n",
        "    layer.trainable=False\n",
        "model = Sequential()\n",
        "model.add(base_model)\n",
        "#model.add(Dense(512, activation = 'relu'))\n",
        "#model.add(GaussianNoise(0.25))\n",
        "model.add(GlobalAveragePooling2D())\n",
        "#model.add(Dense(512,activation='relu'))\n",
        "#model.add(BatchNormalization())\n",
        "#model.add(GaussianNoise(0.25))\n",
        "#model.add(Dropout(0.25))\n",
        "model.add(Dense(1, activation='sigmoid'))\n",
        "#model.add(GaussianNoise(0.25))\n",
        "#model.add(Dropout(0.25))\n",
        "model.summary()"
      ],
      "metadata": {
        "colab": {
          "base_uri": "https://localhost:8080/"
        },
        "id": "H9kSye0ZUW-e",
        "outputId": "b2073d16-c1ac-415b-c529-4a5650ea7e02"
      },
      "execution_count": 15,
      "outputs": [
        {
          "output_type": "stream",
          "name": "stdout",
          "text": [
            "Model: \"sequential_4\"\n",
            "_________________________________________________________________\n",
            " Layer (type)                Output Shape              Param #   \n",
            "=================================================================\n",
            " efficientnetb3 (Functional  (None, 7, 7, 1536)        10783535  \n",
            " )                                                               \n",
            "                                                                 \n",
            " global_average_pooling2d_1  (None, 1536)              0         \n",
            "  (GlobalAveragePooling2D)                                       \n",
            "                                                                 \n",
            " dense_3 (Dense)             (None, 1)                 1537      \n",
            "                                                                 \n",
            "=================================================================\n",
            "Total params: 10785072 (41.14 MB)\n",
            "Trainable params: 1537 (6.00 KB)\n",
            "Non-trainable params: 10783535 (41.14 MB)\n",
            "_________________________________________________________________\n"
          ]
        }
      ]
    },
    {
      "cell_type": "code",
      "source": [
        "model.compile(loss='binary_crossentropy',\n",
        "              optimizer='adam',\n",
        "              metrics=['accuracy','Precision','Recall','AUC'])"
      ],
      "metadata": {
        "id": "hhOHKHDVWi-R"
      },
      "execution_count": 16,
      "outputs": []
    },
    {
      "cell_type": "code",
      "source": [
        "from tensorflow.keras.callbacks import ModelCheckpoint, EarlyStopping, ReduceLROnPlateau\n",
        "lrp=ReduceLROnPlateau(monitor=\"val_loss\", factor=0.1, patience=2)\n",
        "filepath='best_model.h5'\n",
        "checkpoint = ModelCheckpoint(filepath, monitor='val_accuracy', verbose=1, save_best_only=True, mode='max')\n",
        "call=[checkpoint,lrp]\n",
        "history = model.fit(\n",
        "    training_generator,\n",
        "    epochs=20,\n",
        "    validation_data=testing_generator,\n",
        "    steps_per_epoch= 50,\n",
        "    callbacks=call\n",
        "    )"
      ],
      "metadata": {
        "colab": {
          "base_uri": "https://localhost:8080/"
        },
        "id": "iSlszFxnWmKG",
        "outputId": "4a9ca0c7-a1b6-43f2-f6de-ddc563c8d0f0"
      },
      "execution_count": 17,
      "outputs": [
        {
          "output_type": "stream",
          "name": "stdout",
          "text": [
            "Epoch 1/20\n",
            "50/50 [==============================] - ETA: 0s - loss: 0.6890 - accuracy: 0.5600 - precision: 0.5725 - recall: 0.7009 - auc: 0.5643\n",
            "Epoch 1: val_accuracy improved from -inf to 0.58500, saving model to best_model.h5\n"
          ]
        },
        {
          "output_type": "stream",
          "name": "stderr",
          "text": [
            "/usr/local/lib/python3.10/dist-packages/keras/src/engine/training.py:3079: UserWarning: You are saving your model as an HDF5 file via `model.save()`. This file format is considered legacy. We recommend using instead the native Keras format, e.g. `model.save('my_model.keras')`.\n",
            "  saving_api.save_model(\n"
          ]
        },
        {
          "output_type": "stream",
          "name": "stdout",
          "text": [
            "\b\b\b\b\b\b\b\b\b\b\b\b\b\b\b\b\b\b\b\b\b\b\b\b\b\b\b\b\b\b\b\b\b\b\b\b\b\b\b\b\b\b\b\b\b\b\b\b\b\b\b\b\b\b\b\b\b\b\b\b\b\b\b\b\b\b\b\b\b\b\b\b\b\b\b\b\b\b\b\b\b\b\b\b\b\b\b\b\b\b\b\b\b\b\b\b\b\b\b\b\b\b\b\b\b\b\b\b\b\b\b\b\b\b\b\b\b\b\b\b\b\b\b\b\b\b\b\b\b\b\b\b\b\r50/50 [==============================] - 301s 6s/step - loss: 0.6890 - accuracy: 0.5600 - precision: 0.5725 - recall: 0.7009 - auc: 0.5643 - val_loss: 0.6613 - val_accuracy: 0.5850 - val_precision: 0.4906 - val_recall: 0.9750 - val_auc: 0.8212 - lr: 0.0010\n",
            "Epoch 2/20\n",
            "50/50 [==============================] - ETA: 0s - loss: 0.6265 - accuracy: 0.6550 - precision: 0.5952 - recall: 0.5882 - auc: 0.7052\n",
            "Epoch 2: val_accuracy improved from 0.58500 to 0.72500, saving model to best_model.h5\n",
            "50/50 [==============================] - 157s 3s/step - loss: 0.6265 - accuracy: 0.6550 - precision: 0.5952 - recall: 0.5882 - auc: 0.7052 - val_loss: 0.5746 - val_accuracy: 0.7250 - val_precision: 0.6344 - val_recall: 0.7375 - val_auc: 0.8001 - lr: 0.0010\n",
            "Epoch 3/20\n",
            "50/50 [==============================] - ETA: 0s - loss: 0.6023 - accuracy: 0.6650 - precision: 0.6458 - recall: 0.6526 - auc: 0.7344\n",
            "Epoch 3: val_accuracy did not improve from 0.72500\n",
            "50/50 [==============================] - 213s 4s/step - loss: 0.6023 - accuracy: 0.6650 - precision: 0.6458 - recall: 0.6526 - auc: 0.7344 - val_loss: 0.5983 - val_accuracy: 0.6867 - val_precision: 0.5788 - val_recall: 0.7958 - val_auc: 0.7456 - lr: 0.0010\n",
            "Epoch 4/20\n",
            "50/50 [==============================] - ETA: 0s - loss: 0.5877 - accuracy: 0.7050 - precision: 0.7100 - recall: 0.7030 - auc: 0.7547\n",
            "Epoch 4: val_accuracy did not improve from 0.72500\n",
            "50/50 [==============================] - 209s 4s/step - loss: 0.5877 - accuracy: 0.7050 - precision: 0.7100 - recall: 0.7030 - auc: 0.7547 - val_loss: 0.5828 - val_accuracy: 0.6667 - val_precision: 0.5735 - val_recall: 0.6500 - val_auc: 0.7392 - lr: 0.0010\n",
            "Epoch 5/20\n",
            "50/50 [==============================] - ETA: 0s - loss: 0.5514 - accuracy: 0.7500 - precision: 0.7889 - recall: 0.6961 - auc: 0.8376\n",
            "Epoch 5: val_accuracy did not improve from 0.72500\n",
            "50/50 [==============================] - 154s 3s/step - loss: 0.5514 - accuracy: 0.7500 - precision: 0.7889 - recall: 0.6961 - auc: 0.8376 - val_loss: 0.5788 - val_accuracy: 0.6767 - val_precision: 0.5728 - val_recall: 0.7542 - val_auc: 0.7624 - lr: 1.0000e-04\n",
            "Epoch 6/20\n",
            "50/50 [==============================] - ETA: 0s - loss: 0.5581 - accuracy: 0.7200 - precision: 0.6975 - recall: 0.8058 - auc: 0.8141\n",
            "Epoch 6: val_accuracy did not improve from 0.72500\n",
            "50/50 [==============================] - 151s 3s/step - loss: 0.5581 - accuracy: 0.7200 - precision: 0.6975 - recall: 0.8058 - auc: 0.8141 - val_loss: 0.5719 - val_accuracy: 0.6767 - val_precision: 0.5732 - val_recall: 0.7500 - val_auc: 0.7680 - lr: 1.0000e-04\n",
            "Epoch 7/20\n",
            "50/50 [==============================] - ETA: 0s - loss: 0.5667 - accuracy: 0.7250 - precision: 0.7059 - recall: 0.8077 - auc: 0.7999\n",
            "Epoch 7: val_accuracy did not improve from 0.72500\n",
            "50/50 [==============================] - 148s 3s/step - loss: 0.5667 - accuracy: 0.7250 - precision: 0.7059 - recall: 0.8077 - auc: 0.7999 - val_loss: 0.5773 - val_accuracy: 0.6750 - val_precision: 0.5676 - val_recall: 0.7875 - val_auc: 0.7633 - lr: 1.0000e-04\n",
            "Epoch 8/20\n",
            "50/50 [==============================] - ETA: 0s - loss: 0.5708 - accuracy: 0.7250 - precision: 0.7000 - recall: 0.7368 - auc: 0.7854\n",
            "Epoch 8: val_accuracy did not improve from 0.72500\n",
            "50/50 [==============================] - 152s 3s/step - loss: 0.5708 - accuracy: 0.7250 - precision: 0.7000 - recall: 0.7368 - auc: 0.7854 - val_loss: 0.5715 - val_accuracy: 0.6933 - val_precision: 0.5870 - val_recall: 0.7875 - val_auc: 0.7655 - lr: 1.0000e-04\n",
            "Epoch 9/20\n",
            "50/50 [==============================] - ETA: 0s - loss: 0.5545 - accuracy: 0.7550 - precision: 0.7500 - recall: 0.7576 - auc: 0.8204\n",
            "Epoch 9: val_accuracy did not improve from 0.72500\n",
            "50/50 [==============================] - 202s 4s/step - loss: 0.5545 - accuracy: 0.7550 - precision: 0.7500 - recall: 0.7576 - auc: 0.8204 - val_loss: 0.5757 - val_accuracy: 0.6767 - val_precision: 0.5728 - val_recall: 0.7542 - val_auc: 0.7548 - lr: 1.0000e-04\n",
            "Epoch 10/20\n",
            "50/50 [==============================] - ETA: 0s - loss: 0.5636 - accuracy: 0.7437 - precision: 0.7619 - recall: 0.7547 - auc: 0.7979\n",
            "Epoch 10: val_accuracy did not improve from 0.72500\n",
            "50/50 [==============================] - 203s 4s/step - loss: 0.5636 - accuracy: 0.7437 - precision: 0.7619 - recall: 0.7547 - auc: 0.7979 - val_loss: 0.5864 - val_accuracy: 0.6917 - val_precision: 0.5826 - val_recall: 0.8083 - val_auc: 0.7665 - lr: 1.0000e-04\n",
            "Epoch 11/20\n",
            "50/50 [==============================] - ETA: 0s - loss: 0.5657 - accuracy: 0.7200 - precision: 0.6964 - recall: 0.7800 - auc: 0.7903\n",
            "Epoch 11: val_accuracy did not improve from 0.72500\n",
            "50/50 [==============================] - 198s 4s/step - loss: 0.5657 - accuracy: 0.7200 - precision: 0.6964 - recall: 0.7800 - auc: 0.7903 - val_loss: 0.5803 - val_accuracy: 0.7017 - val_precision: 0.5859 - val_recall: 0.8667 - val_auc: 0.7628 - lr: 1.0000e-05\n",
            "Epoch 12/20\n",
            "50/50 [==============================] - ETA: 0s - loss: 0.5383 - accuracy: 0.7350 - precision: 0.7524 - recall: 0.7453 - auc: 0.8352\n",
            "Epoch 12: val_accuracy did not improve from 0.72500\n",
            "50/50 [==============================] - 200s 4s/step - loss: 0.5383 - accuracy: 0.7350 - precision: 0.7524 - recall: 0.7453 - auc: 0.8352 - val_loss: 0.5695 - val_accuracy: 0.7017 - val_precision: 0.5900 - val_recall: 0.8333 - val_auc: 0.7813 - lr: 1.0000e-05\n",
            "Epoch 13/20\n",
            "50/50 [==============================] - ETA: 0s - loss: 0.5369 - accuracy: 0.7550 - precision: 0.7544 - recall: 0.8037 - auc: 0.8397\n",
            "Epoch 13: val_accuracy did not improve from 0.72500\n",
            "50/50 [==============================] - 152s 3s/step - loss: 0.5369 - accuracy: 0.7550 - precision: 0.7544 - recall: 0.8037 - auc: 0.8397 - val_loss: 0.5958 - val_accuracy: 0.6583 - val_precision: 0.5490 - val_recall: 0.8167 - val_auc: 0.7460 - lr: 1.0000e-05\n",
            "Epoch 14/20\n",
            "50/50 [==============================] - ETA: 0s - loss: 0.5355 - accuracy: 0.7850 - precision: 0.7257 - recall: 0.8723 - auc: 0.8440\n",
            "Epoch 14: val_accuracy did not improve from 0.72500\n",
            "50/50 [==============================] - 196s 4s/step - loss: 0.5355 - accuracy: 0.7850 - precision: 0.7257 - recall: 0.8723 - auc: 0.8440 - val_loss: 0.5766 - val_accuracy: 0.6817 - val_precision: 0.5698 - val_recall: 0.8333 - val_auc: 0.7668 - lr: 1.0000e-05\n",
            "Epoch 15/20\n",
            "50/50 [==============================] - ETA: 0s - loss: 0.5531 - accuracy: 0.7150 - precision: 0.6379 - recall: 0.8315 - auc: 0.8111\n",
            "Epoch 15: val_accuracy did not improve from 0.72500\n",
            "50/50 [==============================] - 145s 3s/step - loss: 0.5531 - accuracy: 0.7150 - precision: 0.6379 - recall: 0.8315 - auc: 0.8111 - val_loss: 0.5813 - val_accuracy: 0.7050 - val_precision: 0.5908 - val_recall: 0.8542 - val_auc: 0.7636 - lr: 1.0000e-06\n",
            "Epoch 16/20\n",
            "50/50 [==============================] - ETA: 0s - loss: 0.5192 - accuracy: 0.7700 - precision: 0.7193 - recall: 0.8542 - auc: 0.8655\n",
            "Epoch 16: val_accuracy did not improve from 0.72500\n",
            "50/50 [==============================] - 195s 4s/step - loss: 0.5192 - accuracy: 0.7700 - precision: 0.7193 - recall: 0.8542 - auc: 0.8655 - val_loss: 0.5834 - val_accuracy: 0.6950 - val_precision: 0.5807 - val_recall: 0.8542 - val_auc: 0.7566 - lr: 1.0000e-06\n",
            "Epoch 17/20\n",
            "50/50 [==============================] - ETA: 0s - loss: 0.5358 - accuracy: 0.7600 - precision: 0.7288 - recall: 0.8431 - auc: 0.8370\n",
            "Epoch 17: val_accuracy did not improve from 0.72500\n",
            "50/50 [==============================] - 196s 4s/step - loss: 0.5358 - accuracy: 0.7600 - precision: 0.7288 - recall: 0.8431 - auc: 0.8370 - val_loss: 0.5780 - val_accuracy: 0.6933 - val_precision: 0.5814 - val_recall: 0.8333 - val_auc: 0.7680 - lr: 1.0000e-07\n",
            "Epoch 18/20\n",
            "50/50 [==============================] - ETA: 0s - loss: 0.5353 - accuracy: 0.7400 - precision: 0.7315 - recall: 0.7745 - auc: 0.8273\n",
            "Epoch 18: val_accuracy did not improve from 0.72500\n",
            "50/50 [==============================] - 138s 3s/step - loss: 0.5353 - accuracy: 0.7400 - precision: 0.7315 - recall: 0.7745 - auc: 0.8273 - val_loss: 0.5815 - val_accuracy: 0.7100 - val_precision: 0.5954 - val_recall: 0.8583 - val_auc: 0.7729 - lr: 1.0000e-07\n",
            "Epoch 19/20\n",
            "50/50 [==============================] - ETA: 0s - loss: 0.5601 - accuracy: 0.7300 - precision: 0.7091 - recall: 0.7800 - auc: 0.8075\n",
            "Epoch 19: val_accuracy did not improve from 0.72500\n",
            "50/50 [==============================] - 195s 4s/step - loss: 0.5601 - accuracy: 0.7300 - precision: 0.7091 - recall: 0.7800 - auc: 0.8075 - val_loss: 0.5747 - val_accuracy: 0.7000 - val_precision: 0.5857 - val_recall: 0.8542 - val_auc: 0.7777 - lr: 1.0000e-08\n",
            "Epoch 20/20\n",
            "50/50 [==============================] - ETA: 0s - loss: 0.5535 - accuracy: 0.7550 - precision: 0.7105 - recall: 0.8351 - auc: 0.8339\n",
            "Epoch 20: val_accuracy did not improve from 0.72500\n",
            "50/50 [==============================] - 194s 4s/step - loss: 0.5535 - accuracy: 0.7550 - precision: 0.7105 - recall: 0.8351 - auc: 0.8339 - val_loss: 0.5861 - val_accuracy: 0.6817 - val_precision: 0.5723 - val_recall: 0.8083 - val_auc: 0.7549 - lr: 1.0000e-08\n"
          ]
        }
      ]
    },
    {
      "cell_type": "code",
      "source": [
        "model.evaluate(training_generator)"
      ],
      "metadata": {
        "colab": {
          "base_uri": "https://localhost:8080/"
        },
        "id": "My-N6HonzrIm",
        "outputId": "820bef5e-594f-4c72-ff4a-e9fddcad22d1"
      },
      "execution_count": 18,
      "outputs": [
        {
          "output_type": "stream",
          "name": "stdout",
          "text": [
            "2216/2216 [==============================] - 2105s 950ms/step - loss: 0.5302 - accuracy: 0.7680 - precision: 0.7372 - recall: 0.8250 - auc: 0.8483\n"
          ]
        },
        {
          "output_type": "execute_result",
          "data": {
            "text/plain": [
              "[0.5301942229270935,\n",
              " 0.7680243849754333,\n",
              " 0.7372069358825684,\n",
              " 0.8250057101249695,\n",
              " 0.848292350769043]"
            ]
          },
          "metadata": {},
          "execution_count": 18
        }
      ]
    },
    {
      "cell_type": "code",
      "source": [
        "model.evaluate(testing_generator)"
      ],
      "metadata": {
        "colab": {
          "base_uri": "https://localhost:8080/"
        },
        "id": "jLrLKW0Lz0x8",
        "outputId": "6f6bb65d-5195-4a2c-c3ee-a5482fa51e1d"
      },
      "execution_count": 19,
      "outputs": [
        {
          "output_type": "stream",
          "name": "stdout",
          "text": [
            "150/150 [==============================] - 89s 595ms/step - loss: 0.5709 - accuracy: 0.6983 - precision: 0.5845 - recall: 0.8500 - auc: 0.7780\n"
          ]
        },
        {
          "output_type": "execute_result",
          "data": {
            "text/plain": [
              "[0.5709335803985596,\n",
              " 0.6983333230018616,\n",
              " 0.5845271944999695,\n",
              " 0.8500000238418579,\n",
              " 0.778003454208374]"
            ]
          },
          "metadata": {},
          "execution_count": 19
        }
      ]
    }
  ]
}