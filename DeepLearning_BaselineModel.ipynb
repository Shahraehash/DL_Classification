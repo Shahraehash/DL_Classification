{
  "nbformat": 4,
  "nbformat_minor": 0,
  "metadata": {
    "colab": {
      "provenance": [],
      "gpuType": "T4"
    },
    "kernelspec": {
      "name": "python3",
      "display_name": "Python 3"
    },
    "language_info": {
      "name": "python"
    },
    "accelerator": "GPU"
  },
  "cells": [
    {
      "cell_type": "code",
      "execution_count": null,
      "metadata": {
        "id": "qjwMTOPGC6UK"
      },
      "outputs": [],
      "source": [
        "import numpy as np\n",
        "import pandas as pd\n",
        "import os\n",
        "import matplotlib.pyplot as plt\n",
        "import tensorflow as tf\n",
        "from keras import Sequential\n",
        "from tensorflow.keras.layers import *\n",
        "from tensorflow.keras.models import *\n",
        "from tensorflow.keras.preprocessing import image"
      ]
    },
    {
      "cell_type": "code",
      "source": [
        "from google.colab import drive\n",
        "drive.mount('/content/drive')"
      ],
      "metadata": {
        "colab": {
          "base_uri": "https://localhost:8080/"
        },
        "id": "Ur8UxhPDDWnL",
        "outputId": "01ee2b91-c8cf-40b6-d467-09be63ebc34f"
      },
      "execution_count": null,
      "outputs": [
        {
          "output_type": "stream",
          "name": "stdout",
          "text": [
            "Drive already mounted at /content/drive; to attempt to forcibly remount, call drive.mount(\"/content/drive\", force_remount=True).\n"
          ]
        }
      ]
    },
    {
      "cell_type": "code",
      "source": [
        "folder_path = \"/content/drive/MyDrive/xray_bone_fracture/\"\n",
        "\n",
        "training_path = folder_path + \"train\"\n",
        "testing_path = folder_path + \"val\"\n"
      ],
      "metadata": {
        "id": "-S-iHsoESjsZ"
      },
      "execution_count": null,
      "outputs": []
    },
    {
      "cell_type": "code",
      "source": [
        "training_datagen = image.ImageDataGenerator(\n",
        "    rotation_range=15,\n",
        "    shear_range=0.2,\n",
        "    zoom_range=0.2,\n",
        "    horizontal_flip=True,\n",
        "    fill_mode='nearest',\n",
        "    width_shift_range=0.1,\n",
        "    height_shift_range=0.1\n",
        ")\n",
        "\n",
        "testing_datagen = image.ImageDataGenerator(\n",
        "    rotation_range=15,\n",
        "    shear_range=0.2,\n",
        "    zoom_range=0.2,\n",
        "    horizontal_flip=True,\n",
        "    fill_mode='nearest',\n",
        "    width_shift_range=0.1,\n",
        "    height_shift_range=0.1)"
      ],
      "metadata": {
        "id": "uVf-S5soT_Zm"
      },
      "execution_count": null,
      "outputs": []
    },
    {
      "cell_type": "code",
      "source": [
        "training_generator = training_datagen.flow_from_directory(\n",
        "    training_path,\n",
        "    target_size = (224,224),\n",
        "    batch_size = 4,\n",
        "    class_mode = 'binary')\n",
        "testing_generator = testing_datagen.flow_from_directory(\n",
        "    testing_path,\n",
        "    target_size = (224,224),\n",
        "    batch_size = 4,\n",
        "    shuffle=True,\n",
        "    class_mode = 'binary')"
      ],
      "metadata": {
        "colab": {
          "base_uri": "https://localhost:8080/"
        },
        "id": "meI_gkjWUJ6P",
        "outputId": "66f4168b-87c8-4835-a4c4-d48d092bf5f9"
      },
      "execution_count": null,
      "outputs": [
        {
          "output_type": "stream",
          "name": "stdout",
          "text": [
            "Found 8863 images belonging to 2 classes.\n",
            "Found 600 images belonging to 2 classes.\n"
          ]
        }
      ]
    },
    {
      "cell_type": "code",
      "source": [
        "base_model = tf.keras.applications.EfficientNetB3(weights='imagenet', input_shape=(224,224,3), include_top=False)\n",
        "\n",
        "for layer in base_model.layers:\n",
        "    layer.trainable=False\n",
        "model = Sequential()\n",
        "model.add(base_model)\n",
        "model.add(GaussianNoise(0.25))\n",
        "model.add(GlobalAveragePooling2D())\n",
        "model.add(Dense(512,activation='relu'))\n",
        "model.add(BatchNormalization())\n",
        "model.add(GaussianNoise(0.25))\n",
        "model.add(Dropout(0.25))\n",
        "model.add(Dense(1, activation='sigmoid'))\n",
        "model.add(GaussianNoise(0.25))\n",
        "model.add(Dropout(0.25))\n",
        "model.summary()"
      ],
      "metadata": {
        "colab": {
          "base_uri": "https://localhost:8080/"
        },
        "id": "H9kSye0ZUW-e",
        "outputId": "a705c51e-879c-46d7-9032-8e102762ea1e"
      },
      "execution_count": null,
      "outputs": [
        {
          "output_type": "stream",
          "name": "stdout",
          "text": [
            "Downloading data from https://storage.googleapis.com/keras-applications/efficientnetb3_notop.h5\n",
            "43941136/43941136 [==============================] - 0s 0us/step\n",
            "Model: \"sequential\"\n",
            "_________________________________________________________________\n",
            " Layer (type)                Output Shape              Param #   \n",
            "=================================================================\n",
            " efficientnetb3 (Functional  (None, 7, 7, 1536)        10783535  \n",
            " )                                                               \n",
            "                                                                 \n",
            " gaussian_noise (GaussianNo  (None, 7, 7, 1536)        0         \n",
            " ise)                                                            \n",
            "                                                                 \n",
            " global_average_pooling2d (  (None, 1536)              0         \n",
            " GlobalAveragePooling2D)                                         \n",
            "                                                                 \n",
            " dense (Dense)               (None, 512)               786944    \n",
            "                                                                 \n",
            " batch_normalization (Batch  (None, 512)               2048      \n",
            " Normalization)                                                  \n",
            "                                                                 \n",
            " gaussian_noise_1 (Gaussian  (None, 512)               0         \n",
            " Noise)                                                          \n",
            "                                                                 \n",
            " dropout (Dropout)           (None, 512)               0         \n",
            "                                                                 \n",
            " dense_1 (Dense)             (None, 1)                 513       \n",
            "                                                                 \n",
            " gaussian_noise_2 (Gaussian  (None, 1)                 0         \n",
            " Noise)                                                          \n",
            "                                                                 \n",
            " dropout_1 (Dropout)         (None, 1)                 0         \n",
            "                                                                 \n",
            "=================================================================\n",
            "Total params: 11573040 (44.15 MB)\n",
            "Trainable params: 788481 (3.01 MB)\n",
            "Non-trainable params: 10784559 (41.14 MB)\n",
            "_________________________________________________________________\n"
          ]
        }
      ]
    },
    {
      "cell_type": "code",
      "source": [
        "model.compile(loss='binary_crossentropy',\n",
        "              optimizer='adam',\n",
        "              metrics=['accuracy','Precision','Recall','AUC'])"
      ],
      "metadata": {
        "id": "hhOHKHDVWi-R"
      },
      "execution_count": null,
      "outputs": []
    },
    {
      "cell_type": "code",
      "source": [
        "from tensorflow.keras.callbacks import ModelCheckpoint, EarlyStopping, ReduceLROnPlateau\n",
        "lrp=ReduceLROnPlateau(monitor=\"val_loss\", factor=0.1, patience=2)\n",
        "filepath='best_model.h5'\n",
        "checkpoint = ModelCheckpoint(filepath, monitor='val_accuracy', verbose=1, save_best_only=True, mode='max')\n",
        "call=[checkpoint,lrp]\n",
        "history = model.fit(\n",
        "    training_generator,\n",
        "    epochs=20,\n",
        "    validation_data=testing_generator,\n",
        "    steps_per_epoch= 50,\n",
        "    callbacks=call\n",
        "    )"
      ],
      "metadata": {
        "colab": {
          "base_uri": "https://localhost:8080/"
        },
        "id": "iSlszFxnWmKG",
        "outputId": "f0522aa3-a765-4ee3-fa89-b4e50901aa32"
      },
      "execution_count": null,
      "outputs": [
        {
          "output_type": "stream",
          "name": "stdout",
          "text": [
            "Epoch 1/20\n",
            "50/50 [==============================] - ETA: 0s - loss: 4.4038 - accuracy: 0.5750 - precision: 0.5795 - recall: 0.5152 - auc: 0.5689\n",
            "Epoch 1: val_accuracy improved from -inf to 0.47333, saving model to best_model.h5\n"
          ]
        },
        {
          "output_type": "stream",
          "name": "stderr",
          "text": [
            "/usr/local/lib/python3.10/dist-packages/keras/src/engine/training.py:3079: UserWarning: You are saving your model as an HDF5 file via `model.save()`. This file format is considered legacy. We recommend using instead the native Keras format, e.g. `model.save('my_model.keras')`.\n",
            "  saving_api.save_model(\n"
          ]
        },
        {
          "output_type": "stream",
          "name": "stdout",
          "text": [
            "\b\b\b\b\b\b\b\b\b\b\b\b\b\b\b\b\b\b\b\b\b\b\b\b\b\b\b\b\b\b\b\b\b\b\b\b\b\b\b\b\b\b\b\b\b\b\b\b\b\b\b\b\b\b\b\b\b\b\b\b\b\b\b\b\b\b\b\b\b\b\b\b\b\b\b\b\b\b\b\b\b\b\b\b\b\b\b\b\b\b\b\b\b\b\b\b\b\b\b\b\b\b\b\b\b\b\b\b\b\b\b\b\b\b\b\b\b\b\b\b\b\b\b\b\b\b\b\b\b\b\b\b\b\r50/50 [==============================] - 308s 6s/step - loss: 4.4038 - accuracy: 0.5750 - precision: 0.5795 - recall: 0.5152 - auc: 0.5689 - val_loss: 1.4993 - val_accuracy: 0.4733 - val_precision: 0.4275 - val_recall: 0.9333 - val_auc: 0.6459 - lr: 0.0010\n",
            "Epoch 2/20\n",
            "50/50 [==============================] - ETA: 0s - loss: 4.5818 - accuracy: 0.5750 - precision: 0.5647 - recall: 0.5000 - auc: 0.5615\n",
            "Epoch 2: val_accuracy did not improve from 0.47333\n",
            "50/50 [==============================] - 48s 968ms/step - loss: 4.5818 - accuracy: 0.5750 - precision: 0.5647 - recall: 0.5000 - auc: 0.5615 - val_loss: 2.5002 - val_accuracy: 0.3833 - val_precision: 0.3367 - val_recall: 0.5583 - val_auc: 0.3450 - lr: 0.0010\n",
            "Epoch 3/20\n",
            "50/50 [==============================] - ETA: 0s - loss: 5.2254 - accuracy: 0.5450 - precision: 0.5385 - recall: 0.5000 - auc: 0.5475\n",
            "Epoch 3: val_accuracy improved from 0.47333 to 0.57000, saving model to best_model.h5\n",
            "50/50 [==============================] - 45s 911ms/step - loss: 5.2254 - accuracy: 0.5450 - precision: 0.5385 - recall: 0.5000 - auc: 0.5475 - val_loss: 1.4226 - val_accuracy: 0.5700 - val_precision: 0.4740 - val_recall: 0.6833 - val_auc: 0.6014 - lr: 0.0010\n",
            "Epoch 4/20\n",
            "50/50 [==============================] - ETA: 0s - loss: 4.3997 - accuracy: 0.5650 - precision: 0.5059 - recall: 0.4886 - auc: 0.5892\n",
            "Epoch 4: val_accuracy did not improve from 0.57000\n",
            "50/50 [==============================] - 43s 864ms/step - loss: 4.3997 - accuracy: 0.5650 - precision: 0.5059 - recall: 0.4886 - auc: 0.5892 - val_loss: 1.7662 - val_accuracy: 0.5283 - val_precision: 0.4256 - val_recall: 0.5125 - val_auc: 0.5321 - lr: 0.0010\n",
            "Epoch 5/20\n",
            "50/50 [==============================] - ETA: 0s - loss: 4.4880 - accuracy: 0.5800 - precision: 0.6190 - recall: 0.5000 - auc: 0.5914\n",
            "Epoch 5: val_accuracy improved from 0.57000 to 0.67000, saving model to best_model.h5\n",
            "50/50 [==============================] - 46s 915ms/step - loss: 4.4880 - accuracy: 0.5800 - precision: 0.6190 - recall: 0.5000 - auc: 0.5914 - val_loss: 1.3642 - val_accuracy: 0.6700 - val_precision: 0.5719 - val_recall: 0.6958 - val_auc: 0.7249 - lr: 0.0010\n",
            "Epoch 6/20\n",
            "50/50 [==============================] - ETA: 0s - loss: 3.8413 - accuracy: 0.6200 - precision: 0.6463 - recall: 0.5300 - auc: 0.6230\n",
            "Epoch 6: val_accuracy did not improve from 0.67000\n",
            "50/50 [==============================] - 49s 966ms/step - loss: 3.8413 - accuracy: 0.6200 - precision: 0.6463 - recall: 0.5300 - auc: 0.6230 - val_loss: 2.1146 - val_accuracy: 0.5667 - val_precision: 0.4219 - val_recall: 0.2250 - val_auc: 0.5579 - lr: 0.0010\n",
            "Epoch 7/20\n",
            "50/50 [==============================] - ETA: 0s - loss: 4.0484 - accuracy: 0.6050 - precision: 0.5769 - recall: 0.4945 - auc: 0.6069\n",
            "Epoch 7: val_accuracy did not improve from 0.67000\n",
            "50/50 [==============================] - 42s 854ms/step - loss: 4.0484 - accuracy: 0.6050 - precision: 0.5769 - recall: 0.4945 - auc: 0.6069 - val_loss: 3.1092 - val_accuracy: 0.5517 - val_precision: 0.2958 - val_recall: 0.0875 - val_auc: 0.5229 - lr: 0.0010\n",
            "Epoch 8/20\n",
            "50/50 [==============================] - ETA: 0s - loss: 4.1656 - accuracy: 0.6050 - precision: 0.5904 - recall: 0.5213 - auc: 0.6042\n",
            "Epoch 8: val_accuracy did not improve from 0.67000\n",
            "50/50 [==============================] - 42s 836ms/step - loss: 4.1656 - accuracy: 0.6050 - precision: 0.5904 - recall: 0.5213 - auc: 0.6042 - val_loss: 2.5843 - val_accuracy: 0.5700 - val_precision: 0.4118 - val_recall: 0.1750 - val_auc: 0.5208 - lr: 1.0000e-04\n",
            "Epoch 9/20\n",
            "50/50 [==============================] - ETA: 0s - loss: 4.3872 - accuracy: 0.6150 - precision: 0.6747 - recall: 0.5283 - auc: 0.6304\n",
            "Epoch 9: val_accuracy did not improve from 0.67000\n",
            "50/50 [==============================] - 48s 959ms/step - loss: 4.3872 - accuracy: 0.6150 - precision: 0.6747 - recall: 0.5283 - auc: 0.6304 - val_loss: 2.3975 - val_accuracy: 0.5967 - val_precision: 0.4896 - val_recall: 0.1958 - val_auc: 0.5686 - lr: 1.0000e-04\n",
            "Epoch 10/20\n",
            "50/50 [==============================] - ETA: 0s - loss: 5.2904 - accuracy: 0.5300 - precision: 0.5000 - recall: 0.5000 - auc: 0.5362\n",
            "Epoch 10: val_accuracy did not improve from 0.67000\n",
            "50/50 [==============================] - 43s 866ms/step - loss: 5.2904 - accuracy: 0.5300 - precision: 0.5000 - recall: 0.5000 - auc: 0.5362 - val_loss: 2.5874 - val_accuracy: 0.5550 - val_precision: 0.3636 - val_recall: 0.1500 - val_auc: 0.5334 - lr: 1.0000e-05\n",
            "Epoch 11/20\n",
            "50/50 [==============================] - ETA: 0s - loss: 4.6199 - accuracy: 0.6100 - precision: 0.6304 - recall: 0.5686 - auc: 0.5888\n",
            "Epoch 11: val_accuracy did not improve from 0.67000\n",
            "50/50 [==============================] - 43s 858ms/step - loss: 4.6199 - accuracy: 0.6100 - precision: 0.6304 - recall: 0.5686 - auc: 0.5888 - val_loss: 2.3877 - val_accuracy: 0.5783 - val_precision: 0.4414 - val_recall: 0.2042 - val_auc: 0.5432 - lr: 1.0000e-05\n",
            "Epoch 12/20\n",
            "50/50 [==============================] - ETA: 0s - loss: 4.4494 - accuracy: 0.6150 - precision: 0.6322 - recall: 0.5500 - auc: 0.6263\n",
            "Epoch 12: val_accuracy did not improve from 0.67000\n",
            "50/50 [==============================] - 42s 828ms/step - loss: 4.4494 - accuracy: 0.6150 - precision: 0.6322 - recall: 0.5500 - auc: 0.6263 - val_loss: 2.3703 - val_accuracy: 0.5683 - val_precision: 0.3956 - val_recall: 0.1500 - val_auc: 0.5537 - lr: 1.0000e-06\n",
            "Epoch 13/20\n",
            "50/50 [==============================] - ETA: 0s - loss: 4.4299 - accuracy: 0.5250 - precision: 0.5062 - recall: 0.4271 - auc: 0.5703\n",
            "Epoch 13: val_accuracy did not improve from 0.67000\n",
            "50/50 [==============================] - 40s 816ms/step - loss: 4.4299 - accuracy: 0.5250 - precision: 0.5062 - recall: 0.4271 - auc: 0.5703 - val_loss: 2.4405 - val_accuracy: 0.5550 - val_precision: 0.3483 - val_recall: 0.1292 - val_auc: 0.5389 - lr: 1.0000e-06\n",
            "Epoch 14/20\n",
            "50/50 [==============================] - ETA: 0s - loss: 4.2713 - accuracy: 0.6250 - precision: 0.6301 - recall: 0.4894 - auc: 0.6130\n",
            "Epoch 14: val_accuracy did not improve from 0.67000\n",
            "50/50 [==============================] - 46s 933ms/step - loss: 4.2713 - accuracy: 0.6250 - precision: 0.6301 - recall: 0.4894 - auc: 0.6130 - val_loss: 2.4142 - val_accuracy: 0.5583 - val_precision: 0.3418 - val_recall: 0.1125 - val_auc: 0.5263 - lr: 1.0000e-07\n",
            "Epoch 15/20\n",
            "50/50 [==============================] - ETA: 0s - loss: 3.9541 - accuracy: 0.6550 - precision: 0.7123 - recall: 0.5200 - auc: 0.6418\n",
            "Epoch 15: val_accuracy did not improve from 0.67000\n",
            "50/50 [==============================] - 38s 765ms/step - loss: 3.9541 - accuracy: 0.6550 - precision: 0.7123 - recall: 0.5200 - auc: 0.6418 - val_loss: 2.5949 - val_accuracy: 0.5650 - val_precision: 0.3735 - val_recall: 0.1292 - val_auc: 0.5467 - lr: 1.0000e-07\n",
            "Epoch 16/20\n",
            "50/50 [==============================] - ETA: 0s - loss: 4.8086 - accuracy: 0.5800 - precision: 0.6000 - recall: 0.5050 - auc: 0.5890\n",
            "Epoch 16: val_accuracy did not improve from 0.67000\n",
            "50/50 [==============================] - 39s 790ms/step - loss: 4.8086 - accuracy: 0.5800 - precision: 0.6000 - recall: 0.5050 - auc: 0.5890 - val_loss: 2.6689 - val_accuracy: 0.5533 - val_precision: 0.3372 - val_recall: 0.1208 - val_auc: 0.5313 - lr: 1.0000e-08\n",
            "Epoch 17/20\n",
            "50/50 [==============================] - ETA: 0s - loss: 5.7322 - accuracy: 0.5400 - precision: 0.5488 - recall: 0.4500 - auc: 0.5125\n",
            "Epoch 17: val_accuracy did not improve from 0.67000\n",
            "50/50 [==============================] - 36s 732ms/step - loss: 5.7322 - accuracy: 0.5400 - precision: 0.5488 - recall: 0.4500 - auc: 0.5125 - val_loss: 2.5562 - val_accuracy: 0.5600 - val_precision: 0.3462 - val_recall: 0.1125 - val_auc: 0.5515 - lr: 1.0000e-08\n",
            "Epoch 18/20\n",
            "50/50 [==============================] - ETA: 0s - loss: 4.5233 - accuracy: 0.6150 - precision: 0.6897 - recall: 0.5455 - auc: 0.6116\n",
            "Epoch 18: val_accuracy did not improve from 0.67000\n",
            "50/50 [==============================] - 39s 784ms/step - loss: 4.5233 - accuracy: 0.6150 - precision: 0.6897 - recall: 0.5455 - auc: 0.6116 - val_loss: 2.5358 - val_accuracy: 0.5650 - val_precision: 0.3671 - val_recall: 0.1208 - val_auc: 0.5474 - lr: 1.0000e-09\n",
            "Epoch 19/20\n",
            "50/50 [==============================] - ETA: 0s - loss: 4.3279 - accuracy: 0.5850 - precision: 0.5833 - recall: 0.5052 - auc: 0.6275\n",
            "Epoch 19: val_accuracy did not improve from 0.67000\n",
            "50/50 [==============================] - 37s 758ms/step - loss: 4.3279 - accuracy: 0.5850 - precision: 0.5833 - recall: 0.5052 - auc: 0.6275 - val_loss: 2.5241 - val_accuracy: 0.5567 - val_precision: 0.3556 - val_recall: 0.1333 - val_auc: 0.5472 - lr: 1.0000e-09\n",
            "Epoch 20/20\n",
            "50/50 [==============================] - ETA: 0s - loss: 3.9548 - accuracy: 0.6400 - precision: 0.6250 - recall: 0.5851 - auc: 0.6332\n",
            "Epoch 20: val_accuracy did not improve from 0.67000\n",
            "50/50 [==============================] - 36s 729ms/step - loss: 3.9548 - accuracy: 0.6400 - precision: 0.6250 - recall: 0.5851 - auc: 0.6332 - val_loss: 2.3822 - val_accuracy: 0.5667 - val_precision: 0.3780 - val_recall: 0.1292 - val_auc: 0.5455 - lr: 1.0000e-10\n"
          ]
        }
      ]
    },
    {
      "cell_type": "code",
      "source": [
        "model.evaluate(training_generator)"
      ],
      "metadata": {
        "colab": {
          "base_uri": "https://localhost:8080/"
        },
        "id": "My-N6HonzrIm",
        "outputId": "c8aad8a7-25a1-4373-eeb9-8eaca12b812a"
      },
      "execution_count": null,
      "outputs": [
        {
          "output_type": "stream",
          "name": "stdout",
          "text": [
            "2216/2216 [==============================] - 1120s 505ms/step - loss: 1.5242 - accuracy: 0.6590 - precision: 0.6470 - recall: 0.6833 - auc: 0.7191\n"
          ]
        },
        {
          "output_type": "execute_result",
          "data": {
            "text/plain": [
              "[1.5241954326629639,\n",
              " 0.6590319275856018,\n",
              " 0.6470080018043518,\n",
              " 0.6833219528198242,\n",
              " 0.719081461429596]"
            ]
          },
          "metadata": {},
          "execution_count": 9
        }
      ]
    },
    {
      "cell_type": "code",
      "source": [
        "model.evaluate(testing_generator)"
      ],
      "metadata": {
        "colab": {
          "base_uri": "https://localhost:8080/"
        },
        "id": "jLrLKW0Lz0x8",
        "outputId": "179740d3-221c-489d-9f1b-6410ee638108"
      },
      "execution_count": null,
      "outputs": [
        {
          "output_type": "stream",
          "name": "stdout",
          "text": [
            "150/150 [==============================] - 12s 82ms/step - loss: 2.3246 - accuracy: 0.5800 - precision: 0.4400 - recall: 0.1833 - auc: 0.5534\n"
          ]
        },
        {
          "output_type": "execute_result",
          "data": {
            "text/plain": [
              "[2.3245773315429688,\n",
              " 0.5799999833106995,\n",
              " 0.4399999976158142,\n",
              " 0.18333333730697632,\n",
              " 0.5533796548843384]"
            ]
          },
          "metadata": {},
          "execution_count": 10
        }
      ]
    }
  ]
}